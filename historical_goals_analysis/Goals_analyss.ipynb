{
 "cells": [
  {
   "cell_type": "code",
   "execution_count": 1,
   "metadata": {},
   "outputs": [],
   "source": [
    "import pandas as pd\n",
    "import datetime as dt\n",
    "import numpy as np\n",
    "import statsmodels.api as sm\n",
    "from statsmodels.graphics.api import abline_plot\n",
    "import matplotlib.pyplot as plt"
   ]
  },
  {
   "cell_type": "code",
   "execution_count": 2,
   "metadata": {},
   "outputs": [],
   "source": [
    "df = pd.read_csv('../data/international_match_results.csv', parse_dates=['date'])"
   ]
  },
  {
   "cell_type": "code",
   "execution_count": 3,
   "metadata": {},
   "outputs": [
    {
     "name": "stdout",
     "output_type": "stream",
     "text": [
      "<class 'pandas.core.frame.DataFrame'>\n",
      "RangeIndex: 42105 entries, 0 to 42104\n",
      "Data columns (total 9 columns):\n",
      " #   Column      Non-Null Count  Dtype         \n",
      "---  ------      --------------  -----         \n",
      " 0   date        42105 non-null  datetime64[ns]\n",
      " 1   home_team   42105 non-null  object        \n",
      " 2   away_team   42105 non-null  object        \n",
      " 3   home_score  42105 non-null  int64         \n",
      " 4   away_score  42105 non-null  int64         \n",
      " 5   tournament  42105 non-null  object        \n",
      " 6   city        42105 non-null  object        \n",
      " 7   country     42105 non-null  object        \n",
      " 8   neutral     42105 non-null  bool          \n",
      "dtypes: bool(1), datetime64[ns](1), int64(2), object(5)\n",
      "memory usage: 2.6+ MB\n"
     ]
    }
   ],
   "source": [
    "df.info()"
   ]
  },
  {
   "cell_type": "code",
   "execution_count": 4,
   "metadata": {},
   "outputs": [
    {
     "data": {
      "text/html": [
       "<div>\n",
       "<style scoped>\n",
       "    .dataframe tbody tr th:only-of-type {\n",
       "        vertical-align: middle;\n",
       "    }\n",
       "\n",
       "    .dataframe tbody tr th {\n",
       "        vertical-align: top;\n",
       "    }\n",
       "\n",
       "    .dataframe thead th {\n",
       "        text-align: right;\n",
       "    }\n",
       "</style>\n",
       "<table border=\"1\" class=\"dataframe\">\n",
       "  <thead>\n",
       "    <tr style=\"text-align: right;\">\n",
       "      <th></th>\n",
       "      <th>date</th>\n",
       "      <th>home_team</th>\n",
       "      <th>away_team</th>\n",
       "      <th>home_score</th>\n",
       "      <th>away_score</th>\n",
       "      <th>tournament</th>\n",
       "      <th>city</th>\n",
       "      <th>country</th>\n",
       "      <th>neutral</th>\n",
       "    </tr>\n",
       "  </thead>\n",
       "  <tbody>\n",
       "    <tr>\n",
       "      <th>0</th>\n",
       "      <td>1872-11-30</td>\n",
       "      <td>Scotland</td>\n",
       "      <td>England</td>\n",
       "      <td>0</td>\n",
       "      <td>0</td>\n",
       "      <td>Friendly</td>\n",
       "      <td>Glasgow</td>\n",
       "      <td>Scotland</td>\n",
       "      <td>False</td>\n",
       "    </tr>\n",
       "    <tr>\n",
       "      <th>1</th>\n",
       "      <td>1873-03-08</td>\n",
       "      <td>England</td>\n",
       "      <td>Scotland</td>\n",
       "      <td>4</td>\n",
       "      <td>2</td>\n",
       "      <td>Friendly</td>\n",
       "      <td>London</td>\n",
       "      <td>England</td>\n",
       "      <td>False</td>\n",
       "    </tr>\n",
       "    <tr>\n",
       "      <th>2</th>\n",
       "      <td>1874-03-07</td>\n",
       "      <td>Scotland</td>\n",
       "      <td>England</td>\n",
       "      <td>2</td>\n",
       "      <td>1</td>\n",
       "      <td>Friendly</td>\n",
       "      <td>Glasgow</td>\n",
       "      <td>Scotland</td>\n",
       "      <td>False</td>\n",
       "    </tr>\n",
       "    <tr>\n",
       "      <th>3</th>\n",
       "      <td>1875-03-06</td>\n",
       "      <td>England</td>\n",
       "      <td>Scotland</td>\n",
       "      <td>2</td>\n",
       "      <td>2</td>\n",
       "      <td>Friendly</td>\n",
       "      <td>London</td>\n",
       "      <td>England</td>\n",
       "      <td>False</td>\n",
       "    </tr>\n",
       "    <tr>\n",
       "      <th>4</th>\n",
       "      <td>1876-03-04</td>\n",
       "      <td>Scotland</td>\n",
       "      <td>England</td>\n",
       "      <td>3</td>\n",
       "      <td>0</td>\n",
       "      <td>Friendly</td>\n",
       "      <td>Glasgow</td>\n",
       "      <td>Scotland</td>\n",
       "      <td>False</td>\n",
       "    </tr>\n",
       "  </tbody>\n",
       "</table>\n",
       "</div>"
      ],
      "text/plain": [
       "        date home_team away_team  home_score  away_score tournament     city  \\\n",
       "0 1872-11-30  Scotland   England           0           0   Friendly  Glasgow   \n",
       "1 1873-03-08   England  Scotland           4           2   Friendly   London   \n",
       "2 1874-03-07  Scotland   England           2           1   Friendly  Glasgow   \n",
       "3 1875-03-06   England  Scotland           2           2   Friendly   London   \n",
       "4 1876-03-04  Scotland   England           3           0   Friendly  Glasgow   \n",
       "\n",
       "    country  neutral  \n",
       "0  Scotland    False  \n",
       "1   England    False  \n",
       "2  Scotland    False  \n",
       "3   England    False  \n",
       "4  Scotland    False  "
      ]
     },
     "execution_count": 4,
     "metadata": {},
     "output_type": "execute_result"
    }
   ],
   "source": [
    "df.head()"
   ]
  },
  {
   "cell_type": "code",
   "execution_count": 5,
   "metadata": {},
   "outputs": [],
   "source": [
    "df['home_team'] = df['home_team'].replace('Republic of Ireland', 'Ireland')\n",
    "df['away_team'] = df['away_team'].replace('Republic of Ireland', 'Ireland')\n",
    "\n",
    "df['home_team'] = df['home_team'].replace('Czechoslovakia', 'Czech Republic')\n",
    "df['away_team'] = df['away_team'].replace('Czechoslovakia', 'Czech Republic')\n",
    "\n",
    "df['home_team'] = df['home_team'].replace('Yugoslavia', 'Serbia')\n",
    "df['away_team'] = df['away_team'].replace('Yugoslavia', 'Serbia')"
   ]
  },
  {
   "cell_type": "code",
   "execution_count": 6,
   "metadata": {},
   "outputs": [],
   "source": [
    "df_1990 = df[df['date'].dt.year > 1990]"
   ]
  },
  {
   "cell_type": "code",
   "execution_count": 7,
   "metadata": {},
   "outputs": [],
   "source": [
    "all_goals = pd.concat([df_1990['home_score'], df_1990['away_score']])"
   ]
  },
  {
   "cell_type": "code",
   "execution_count": 8,
   "metadata": {},
   "outputs": [],
   "source": [
    "a = all_goals.value_counts().rename_axis('goals').to_frame('counts').reset_index()"
   ]
  },
  {
   "cell_type": "code",
   "execution_count": 9,
   "metadata": {},
   "outputs": [
    {
     "data": {
      "text/plain": [
       "<AxesSubplot:xlabel='goals', ylabel='counts'>"
      ]
     },
     "execution_count": 9,
     "metadata": {},
     "output_type": "execute_result"
    },
    {
     "data": {
      "image/png": "[encoded data removed]",
      "text/plain": [
       "<Figure size 432x288 with 1 Axes>"
      ]
     },
     "metadata": {
      "needs_background": "light"
     },
     "output_type": "display_data"
    }
   ],
   "source": [
    "a.plot(kind='scatter', x = 'goals', y = 'counts')"
   ]
  },
  {
   "cell_type": "code",
   "execution_count": 10,
   "metadata": {},
   "outputs": [
    {
     "name": "stdout",
     "output_type": "stream",
     "text": [
      "Optimization terminated successfully.\n",
      "         Current function value: 23.131046\n",
      "         Iterations 4\n"
     ]
    },
    {
     "data": {
      "text/html": [
       "<table class=\"simpletable\">\n",
       "<caption>Poisson Regression Results</caption>\n",
       "<tr>\n",
       "  <th>Dep. Variable:</th>         <td>goals</td>      <th>  No. Observations:  </th>  <td>    24</td> \n",
       "</tr>\n",
       "<tr>\n",
       "  <th>Model:</th>                <td>Poisson</td>     <th>  Df Residuals:      </th>  <td>    23</td> \n",
       "</tr>\n",
       "<tr>\n",
       "  <th>Method:</th>                 <td>MLE</td>       <th>  Df Model:          </th>  <td>     0</td> \n",
       "</tr>\n",
       "<tr>\n",
       "  <th>Date:</th>            <td>Tue, 01 Jun 2021</td> <th>  Pseudo R-squ.:     </th>  <td>-3.885</td> \n",
       "</tr>\n",
       "<tr>\n",
       "  <th>Time:</th>                <td>07:33:29</td>     <th>  Log-Likelihood:    </th> <td> -555.15</td>\n",
       "</tr>\n",
       "<tr>\n",
       "  <th>converged:</th>             <td>True</td>       <th>  LL-Null:           </th> <td> -113.65</td>\n",
       "</tr>\n",
       "<tr>\n",
       "  <th>Covariance Type:</th>     <td>nonrobust</td>    <th>  LLR p-value:       </th>  <td>   nan</td> \n",
       "</tr>\n",
       "</table>\n",
       "<table class=\"simpletable\">\n",
       "<tr>\n",
       "     <td></td>       <th>coef</th>     <th>std err</th>      <th>z</th>      <th>P>|z|</th>  <th>[0.025</th>    <th>0.975]</th>  \n",
       "</tr>\n",
       "<tr>\n",
       "  <th>counts</th> <td> 2.392e-05</td> <td> 3.23e-05</td> <td>    0.741</td> <td> 0.459</td> <td>-3.93e-05</td> <td> 8.72e-05</td>\n",
       "</tr>\n",
       "</table>"
      ],
      "text/plain": [
       "<class 'statsmodels.iolib.summary.Summary'>\n",
       "\"\"\"\n",
       "                          Poisson Regression Results                          \n",
       "==============================================================================\n",
       "Dep. Variable:                  goals   No. Observations:                   24\n",
       "Model:                        Poisson   Df Residuals:                       23\n",
       "Method:                           MLE   Df Model:                            0\n",
       "Date:                Tue, 01 Jun 2021   Pseudo R-squ.:                  -3.885\n",
       "Time:                        07:33:29   Log-Likelihood:                -555.15\n",
       "converged:                       True   LL-Null:                       -113.65\n",
       "Covariance Type:            nonrobust   LLR p-value:                       nan\n",
       "==============================================================================\n",
       "                 coef    std err          z      P>|z|      [0.025      0.975]\n",
       "------------------------------------------------------------------------------\n",
       "counts      2.392e-05   3.23e-05      0.741      0.459   -3.93e-05    8.72e-05\n",
       "==============================================================================\n",
       "\"\"\""
      ]
     },
     "execution_count": 10,
     "metadata": {},
     "output_type": "execute_result"
    }
   ],
   "source": [
    "res = sm.Poisson(a['goals'], a['counts']).fit()\n",
    "res.summary()"
   ]
  },
  {
   "cell_type": "markdown",
   "metadata": {},
   "source": [
    "# Just Euros"
   ]
  },
  {
   "cell_type": "code",
   "execution_count": 11,
   "metadata": {},
   "outputs": [
    {
     "data": {
      "text/html": [
       "<div>\n",
       "<style scoped>\n",
       "    .dataframe tbody tr th:only-of-type {\n",
       "        vertical-align: middle;\n",
       "    }\n",
       "\n",
       "    .dataframe tbody tr th {\n",
       "        vertical-align: top;\n",
       "    }\n",
       "\n",
       "    .dataframe thead th {\n",
       "        text-align: right;\n",
       "    }\n",
       "</style>\n",
       "<table border=\"1\" class=\"dataframe\">\n",
       "  <thead>\n",
       "    <tr style=\"text-align: right;\">\n",
       "      <th></th>\n",
       "      <th>date</th>\n",
       "      <th>home_team</th>\n",
       "      <th>away_team</th>\n",
       "      <th>home_score</th>\n",
       "      <th>away_score</th>\n",
       "      <th>tournament</th>\n",
       "      <th>city</th>\n",
       "      <th>country</th>\n",
       "      <th>neutral</th>\n",
       "    </tr>\n",
       "  </thead>\n",
       "  <tbody>\n",
       "    <tr>\n",
       "      <th>16346</th>\n",
       "      <td>1991-01-23</td>\n",
       "      <td>Greece</td>\n",
       "      <td>Portugal</td>\n",
       "      <td>3</td>\n",
       "      <td>2</td>\n",
       "      <td>UEFA Euro qualification</td>\n",
       "      <td>Athens</td>\n",
       "      <td>Greece</td>\n",
       "      <td>False</td>\n",
       "    </tr>\n",
       "    <tr>\n",
       "      <th>16363</th>\n",
       "      <td>1991-02-09</td>\n",
       "      <td>Malta</td>\n",
       "      <td>Portugal</td>\n",
       "      <td>0</td>\n",
       "      <td>1</td>\n",
       "      <td>UEFA Euro qualification</td>\n",
       "      <td>Attard</td>\n",
       "      <td>Malta</td>\n",
       "      <td>False</td>\n",
       "    </tr>\n",
       "    <tr>\n",
       "      <th>16371</th>\n",
       "      <td>1991-02-20</td>\n",
       "      <td>France</td>\n",
       "      <td>Spain</td>\n",
       "      <td>3</td>\n",
       "      <td>1</td>\n",
       "      <td>UEFA Euro qualification</td>\n",
       "      <td>Paris</td>\n",
       "      <td>France</td>\n",
       "      <td>False</td>\n",
       "    </tr>\n",
       "    <tr>\n",
       "      <th>16372</th>\n",
       "      <td>1991-02-20</td>\n",
       "      <td>Portugal</td>\n",
       "      <td>Malta</td>\n",
       "      <td>5</td>\n",
       "      <td>0</td>\n",
       "      <td>UEFA Euro qualification</td>\n",
       "      <td>Porto</td>\n",
       "      <td>Portugal</td>\n",
       "      <td>False</td>\n",
       "    </tr>\n",
       "    <tr>\n",
       "      <th>16374</th>\n",
       "      <td>1991-02-27</td>\n",
       "      <td>Belgium</td>\n",
       "      <td>Luxembourg</td>\n",
       "      <td>3</td>\n",
       "      <td>0</td>\n",
       "      <td>UEFA Euro qualification</td>\n",
       "      <td>Brussels</td>\n",
       "      <td>Belgium</td>\n",
       "      <td>False</td>\n",
       "    </tr>\n",
       "  </tbody>\n",
       "</table>\n",
       "</div>"
      ],
      "text/plain": [
       "            date home_team   away_team  home_score  away_score  \\\n",
       "16346 1991-01-23    Greece    Portugal           3           2   \n",
       "16363 1991-02-09     Malta    Portugal           0           1   \n",
       "16371 1991-02-20    France       Spain           3           1   \n",
       "16372 1991-02-20  Portugal       Malta           5           0   \n",
       "16374 1991-02-27   Belgium  Luxembourg           3           0   \n",
       "\n",
       "                    tournament      city   country  neutral  \n",
       "16346  UEFA Euro qualification    Athens    Greece    False  \n",
       "16363  UEFA Euro qualification    Attard     Malta    False  \n",
       "16371  UEFA Euro qualification     Paris    France    False  \n",
       "16372  UEFA Euro qualification     Porto  Portugal    False  \n",
       "16374  UEFA Euro qualification  Brussels   Belgium    False  "
      ]
     },
     "execution_count": 11,
     "metadata": {},
     "output_type": "execute_result"
    }
   ],
   "source": [
    "euros = df_1990[(df_1990['tournament'] == 'UEFA Euro') | (df_1990['tournament'] == 'UEFA Euro qualification')]\n",
    "euros.head()"
   ]
  },
  {
   "cell_type": "code",
   "execution_count": 12,
   "metadata": {},
   "outputs": [
    {
     "name": "stdout",
     "output_type": "stream",
     "text": [
      "<class 'pandas.core.frame.DataFrame'>\n",
      "Int64Index: 2040 entries, 16346 to 41564\n",
      "Data columns (total 9 columns):\n",
      " #   Column      Non-Null Count  Dtype         \n",
      "---  ------      --------------  -----         \n",
      " 0   date        2040 non-null   datetime64[ns]\n",
      " 1   home_team   2040 non-null   object        \n",
      " 2   away_team   2040 non-null   object        \n",
      " 3   home_score  2040 non-null   int64         \n",
      " 4   away_score  2040 non-null   int64         \n",
      " 5   tournament  2040 non-null   object        \n",
      " 6   city        2040 non-null   object        \n",
      " 7   country     2040 non-null   object        \n",
      " 8   neutral     2040 non-null   bool          \n",
      "dtypes: bool(1), datetime64[ns](1), int64(2), object(5)\n",
      "memory usage: 145.4+ KB\n"
     ]
    }
   ],
   "source": [
    "euros.info()"
   ]
  },
  {
   "cell_type": "code",
   "execution_count": 13,
   "metadata": {},
   "outputs": [
    {
     "name": "stderr",
     "output_type": "stream",
     "text": [
      "/Users/msternke/miniconda3/lib/python3.7/site-packages/ipykernel_launcher.py:1: SettingWithCopyWarning: \n",
      "A value is trying to be set on a copy of a slice from a DataFrame.\n",
      "Try using .loc[row_indexer,col_indexer] = value instead\n",
      "\n",
      "See the caveats in the documentation: https://pandas.pydata.org/pandas-docs/stable/user_guide/indexing.html#returning-a-view-versus-a-copy\n",
      "  \"\"\"Entry point for launching an IPython kernel.\n",
      "/Users/msternke/miniconda3/lib/python3.7/site-packages/ipykernel_launcher.py:2: SettingWithCopyWarning: \n",
      "A value is trying to be set on a copy of a slice from a DataFrame.\n",
      "Try using .loc[row_indexer,col_indexer] = value instead\n",
      "\n",
      "See the caveats in the documentation: https://pandas.pydata.org/pandas-docs/stable/user_guide/indexing.html#returning-a-view-versus-a-copy\n",
      "  \n"
     ]
    }
   ],
   "source": [
    "euros['total_score'] = euros['home_score'] + euros['away_score']\n",
    "euros['home_diff'] = euros['home_score'] - euros['away_score']"
   ]
  },
  {
   "cell_type": "code",
   "execution_count": 14,
   "metadata": {},
   "outputs": [
    {
     "data": {
      "text/html": [
       "<div>\n",
       "<style scoped>\n",
       "    .dataframe tbody tr th:only-of-type {\n",
       "        vertical-align: middle;\n",
       "    }\n",
       "\n",
       "    .dataframe tbody tr th {\n",
       "        vertical-align: top;\n",
       "    }\n",
       "\n",
       "    .dataframe thead th {\n",
       "        text-align: right;\n",
       "    }\n",
       "</style>\n",
       "<table border=\"1\" class=\"dataframe\">\n",
       "  <thead>\n",
       "    <tr style=\"text-align: right;\">\n",
       "      <th></th>\n",
       "      <th>date</th>\n",
       "      <th>home_team</th>\n",
       "      <th>away_team</th>\n",
       "      <th>home_score</th>\n",
       "      <th>away_score</th>\n",
       "      <th>tournament</th>\n",
       "      <th>city</th>\n",
       "      <th>country</th>\n",
       "      <th>neutral</th>\n",
       "      <th>total_score</th>\n",
       "      <th>home_diff</th>\n",
       "    </tr>\n",
       "  </thead>\n",
       "  <tbody>\n",
       "    <tr>\n",
       "      <th>16346</th>\n",
       "      <td>1991-01-23</td>\n",
       "      <td>Greece</td>\n",
       "      <td>Portugal</td>\n",
       "      <td>3</td>\n",
       "      <td>2</td>\n",
       "      <td>UEFA Euro qualification</td>\n",
       "      <td>Athens</td>\n",
       "      <td>Greece</td>\n",
       "      <td>False</td>\n",
       "      <td>5</td>\n",
       "      <td>1</td>\n",
       "    </tr>\n",
       "    <tr>\n",
       "      <th>16363</th>\n",
       "      <td>1991-02-09</td>\n",
       "      <td>Malta</td>\n",
       "      <td>Portugal</td>\n",
       "      <td>0</td>\n",
       "      <td>1</td>\n",
       "      <td>UEFA Euro qualification</td>\n",
       "      <td>Attard</td>\n",
       "      <td>Malta</td>\n",
       "      <td>False</td>\n",
       "      <td>1</td>\n",
       "      <td>-1</td>\n",
       "    </tr>\n",
       "    <tr>\n",
       "      <th>16371</th>\n",
       "      <td>1991-02-20</td>\n",
       "      <td>France</td>\n",
       "      <td>Spain</td>\n",
       "      <td>3</td>\n",
       "      <td>1</td>\n",
       "      <td>UEFA Euro qualification</td>\n",
       "      <td>Paris</td>\n",
       "      <td>France</td>\n",
       "      <td>False</td>\n",
       "      <td>4</td>\n",
       "      <td>2</td>\n",
       "    </tr>\n",
       "    <tr>\n",
       "      <th>16372</th>\n",
       "      <td>1991-02-20</td>\n",
       "      <td>Portugal</td>\n",
       "      <td>Malta</td>\n",
       "      <td>5</td>\n",
       "      <td>0</td>\n",
       "      <td>UEFA Euro qualification</td>\n",
       "      <td>Porto</td>\n",
       "      <td>Portugal</td>\n",
       "      <td>False</td>\n",
       "      <td>5</td>\n",
       "      <td>5</td>\n",
       "    </tr>\n",
       "    <tr>\n",
       "      <th>16374</th>\n",
       "      <td>1991-02-27</td>\n",
       "      <td>Belgium</td>\n",
       "      <td>Luxembourg</td>\n",
       "      <td>3</td>\n",
       "      <td>0</td>\n",
       "      <td>UEFA Euro qualification</td>\n",
       "      <td>Brussels</td>\n",
       "      <td>Belgium</td>\n",
       "      <td>False</td>\n",
       "      <td>3</td>\n",
       "      <td>3</td>\n",
       "    </tr>\n",
       "    <tr>\n",
       "      <th>...</th>\n",
       "      <td>...</td>\n",
       "      <td>...</td>\n",
       "      <td>...</td>\n",
       "      <td>...</td>\n",
       "      <td>...</td>\n",
       "      <td>...</td>\n",
       "      <td>...</td>\n",
       "      <td>...</td>\n",
       "      <td>...</td>\n",
       "      <td>...</td>\n",
       "      <td>...</td>\n",
       "    </tr>\n",
       "    <tr>\n",
       "      <th>41560</th>\n",
       "      <td>2019-11-19</td>\n",
       "      <td>Poland</td>\n",
       "      <td>Slovenia</td>\n",
       "      <td>3</td>\n",
       "      <td>2</td>\n",
       "      <td>UEFA Euro qualification</td>\n",
       "      <td>Warsaw</td>\n",
       "      <td>Poland</td>\n",
       "      <td>False</td>\n",
       "      <td>5</td>\n",
       "      <td>1</td>\n",
       "    </tr>\n",
       "    <tr>\n",
       "      <th>41561</th>\n",
       "      <td>2019-11-19</td>\n",
       "      <td>Latvia</td>\n",
       "      <td>Austria</td>\n",
       "      <td>1</td>\n",
       "      <td>0</td>\n",
       "      <td>UEFA Euro qualification</td>\n",
       "      <td>Riga</td>\n",
       "      <td>Latvia</td>\n",
       "      <td>False</td>\n",
       "      <td>1</td>\n",
       "      <td>1</td>\n",
       "    </tr>\n",
       "    <tr>\n",
       "      <th>41562</th>\n",
       "      <td>2019-11-19</td>\n",
       "      <td>Scotland</td>\n",
       "      <td>Kazakhstan</td>\n",
       "      <td>3</td>\n",
       "      <td>1</td>\n",
       "      <td>UEFA Euro qualification</td>\n",
       "      <td>Glasgow</td>\n",
       "      <td>Scotland</td>\n",
       "      <td>False</td>\n",
       "      <td>4</td>\n",
       "      <td>2</td>\n",
       "    </tr>\n",
       "    <tr>\n",
       "      <th>41563</th>\n",
       "      <td>2019-11-19</td>\n",
       "      <td>Belgium</td>\n",
       "      <td>Cyprus</td>\n",
       "      <td>6</td>\n",
       "      <td>1</td>\n",
       "      <td>UEFA Euro qualification</td>\n",
       "      <td>Brussels</td>\n",
       "      <td>Belgium</td>\n",
       "      <td>False</td>\n",
       "      <td>7</td>\n",
       "      <td>5</td>\n",
       "    </tr>\n",
       "    <tr>\n",
       "      <th>41564</th>\n",
       "      <td>2019-11-19</td>\n",
       "      <td>San Marino</td>\n",
       "      <td>Russia</td>\n",
       "      <td>0</td>\n",
       "      <td>5</td>\n",
       "      <td>UEFA Euro qualification</td>\n",
       "      <td>Serravalle</td>\n",
       "      <td>San Marino</td>\n",
       "      <td>False</td>\n",
       "      <td>5</td>\n",
       "      <td>-5</td>\n",
       "    </tr>\n",
       "  </tbody>\n",
       "</table>\n",
       "<p>2040 rows × 11 columns</p>\n",
       "</div>"
      ],
      "text/plain": [
       "            date   home_team   away_team  home_score  away_score  \\\n",
       "16346 1991-01-23      Greece    Portugal           3           2   \n",
       "16363 1991-02-09       Malta    Portugal           0           1   \n",
       "16371 1991-02-20      France       Spain           3           1   \n",
       "16372 1991-02-20    Portugal       Malta           5           0   \n",
       "16374 1991-02-27     Belgium  Luxembourg           3           0   \n",
       "...          ...         ...         ...         ...         ...   \n",
       "41560 2019-11-19      Poland    Slovenia           3           2   \n",
       "41561 2019-11-19      Latvia     Austria           1           0   \n",
       "41562 2019-11-19    Scotland  Kazakhstan           3           1   \n",
       "41563 2019-11-19     Belgium      Cyprus           6           1   \n",
       "41564 2019-11-19  San Marino      Russia           0           5   \n",
       "\n",
       "                    tournament        city     country  neutral  total_score  \\\n",
       "16346  UEFA Euro qualification      Athens      Greece    False            5   \n",
       "16363  UEFA Euro qualification      Attard       Malta    False            1   \n",
       "16371  UEFA Euro qualification       Paris      France    False            4   \n",
       "16372  UEFA Euro qualification       Porto    Portugal    False            5   \n",
       "16374  UEFA Euro qualification    Brussels     Belgium    False            3   \n",
       "...                        ...         ...         ...      ...          ...   \n",
       "41560  UEFA Euro qualification      Warsaw      Poland    False            5   \n",
       "41561  UEFA Euro qualification        Riga      Latvia    False            1   \n",
       "41562  UEFA Euro qualification     Glasgow    Scotland    False            4   \n",
       "41563  UEFA Euro qualification    Brussels     Belgium    False            7   \n",
       "41564  UEFA Euro qualification  Serravalle  San Marino    False            5   \n",
       "\n",
       "       home_diff  \n",
       "16346          1  \n",
       "16363         -1  \n",
       "16371          2  \n",
       "16372          5  \n",
       "16374          3  \n",
       "...          ...  \n",
       "41560          1  \n",
       "41561          1  \n",
       "41562          2  \n",
       "41563          5  \n",
       "41564         -5  \n",
       "\n",
       "[2040 rows x 11 columns]"
      ]
     },
     "execution_count": 14,
     "metadata": {},
     "output_type": "execute_result"
    }
   ],
   "source": [
    "euros"
   ]
  },
  {
   "cell_type": "code",
   "execution_count": 15,
   "metadata": {},
   "outputs": [],
   "source": [
    "elos = pd.read_csv('../data/team_elos_over_time.csv', usecols=['date', 'team', 'rating'], \n",
    "                 parse_dates=['date'], dtype={'rating': int})\n"
   ]
  },
  {
   "cell_type": "code",
   "execution_count": 16,
   "metadata": {},
   "outputs": [],
   "source": [
    "elos = elos.drop_duplicates(subset=['team', 'date'], keep='last')\n",
    "elos['team'] = elos['team'].replace('Soviet Union', 'Russia')\n",
    "elos['team'] = elos['team'].replace('Czechoslovakia', 'Czech Republic')\n",
    "elos['team'] = elos['team'].replace('Czechia', 'Czech Republic')\n",
    "elos['team'] = elos['team'].replace('Macedonia', 'North Macedonia')\n",
    "elos['team'] = elos['team'].replace('Yugoslavia', 'Serbia')"
   ]
  },
  {
   "cell_type": "code",
   "execution_count": 20,
   "metadata": {},
   "outputs": [],
   "source": [
    "def elo_diff_game(result_df, elo_df):\n",
    "    goals = []\n",
    "    elo_diff = []\n",
    "    \n",
    "    for i, row in result_df.iterrows():\n",
    "        home_team = row['home_team']\n",
    "        away_team = row['away_team']\n",
    "        game_date = row['date']\n",
    "        \n",
    "        home_elo_df  = elo_df[elo_df['team'] == home_team].set_index('date')\n",
    "        home_resampled = home_elo_df.resample('d').pad()\n",
    "        home_elo = home_resampled.loc[game_date]['rating']\n",
    "        \n",
    "        away_elo_df  = elo_df[elo_df['team'] == away_team].set_index('date')        \n",
    "        away_resampled = away_elo_df.resample('d').pad()\n",
    "        away_elo = away_resampled.loc[game_date]['rating']\n",
    "        \n",
    "        game_elo_diff = home_elo - away_elo\n",
    "        \n",
    "        goals.append(row['home_score'])\n",
    "        elo_diff.append(game_elo_diff)\n",
    "        \n",
    "        goals.append(row['away_score'])\n",
    "        elo_diff.append(-1 * game_elo_diff)\n",
    "        \n",
    "    return(pd.DataFrame({'goal_scored': goals, 'elo_diff': elo_diff}))\n",
    "        \n",
    "goal_elo_df = elo_diff_game(euros, elos)"
   ]
  },
  {
   "cell_type": "code",
   "execution_count": 88,
   "metadata": {},
   "outputs": [
    {
     "data": {
      "text/plain": [
       "<AxesSubplot:ylabel='Frequency'>"
      ]
     },
     "execution_count": 88,
     "metadata": {},
     "output_type": "execute_result"
    },
    {
     "data": {
      "image/png": "[encoded data removed]",
      "text/plain": [
       "<Figure size 432x288 with 1 Axes>"
      ]
     },
     "metadata": {
      "needs_background": "light"
     },
     "output_type": "display_data"
    }
   ],
   "source": [
    "goal_elo_df.plot.hist(x='elo_diff')"
   ]
  },
  {
   "cell_type": "code",
   "execution_count": 21,
   "metadata": {},
   "outputs": [
    {
     "data": {
      "text/plain": [
       "<AxesSubplot:xlabel='elo_diff', ylabel='goal_scored'>"
      ]
     },
     "execution_count": 21,
     "metadata": {},
     "output_type": "execute_result"
    },
    {
     "data": {
      "image/png": "[encoded data removed]",
      "text/plain": [
       "<Figure size 432x288 with 1 Axes>"
      ]
     },
     "metadata": {
      "needs_background": "light"
     },
     "output_type": "display_data"
    }
   ],
   "source": [
    "goal_elo_df.plot.scatter(x='elo_diff', y='goal_scored')"
   ]
  },
  {
   "cell_type": "code",
   "execution_count": 22,
   "metadata": {},
   "outputs": [
    {
     "data": {
      "text/html": [
       "<table class=\"simpletable\">\n",
       "<caption>Generalized Linear Model Regression Results</caption>\n",
       "<tr>\n",
       "  <th>Dep. Variable:</th>      <td>goal_scored</td>   <th>  No. Observations:  </th>  <td>  4080</td> \n",
       "</tr>\n",
       "<tr>\n",
       "  <th>Model:</th>                  <td>GLM</td>       <th>  Df Residuals:      </th>  <td>  4078</td> \n",
       "</tr>\n",
       "<tr>\n",
       "  <th>Model Family:</th>         <td>Poisson</td>     <th>  Df Model:          </th>  <td>     1</td> \n",
       "</tr>\n",
       "<tr>\n",
       "  <th>Link Function:</th>          <td>log</td>       <th>  Scale:             </th> <td>  1.0000</td>\n",
       "</tr>\n",
       "<tr>\n",
       "  <th>Method:</th>                <td>IRLS</td>       <th>  Log-Likelihood:    </th> <td> -5502.6</td>\n",
       "</tr>\n",
       "<tr>\n",
       "  <th>Date:</th>            <td>Tue, 01 Jun 2021</td> <th>  Deviance:          </th> <td>  4211.7</td>\n",
       "</tr>\n",
       "<tr>\n",
       "  <th>Time:</th>                <td>07:37:01</td>     <th>  Pearson chi2:      </th> <td>3.81e+03</td>\n",
       "</tr>\n",
       "<tr>\n",
       "  <th>No. Iterations:</th>          <td>5</td>        <th>                     </th>     <td> </td>   \n",
       "</tr>\n",
       "<tr>\n",
       "  <th>Covariance Type:</th>     <td>nonrobust</td>    <th>                     </th>     <td> </td>   \n",
       "</tr>\n",
       "</table>\n",
       "<table class=\"simpletable\">\n",
       "<tr>\n",
       "      <td></td>        <th>coef</th>     <th>std err</th>      <th>z</th>      <th>P>|z|</th>  <th>[0.025</th>    <th>0.975]</th>  \n",
       "</tr>\n",
       "<tr>\n",
       "  <th>const</th>    <td>    0.1071</td> <td>    0.016</td> <td>    6.708</td> <td> 0.000</td> <td>    0.076</td> <td>    0.138</td>\n",
       "</tr>\n",
       "<tr>\n",
       "  <th>elo_diff</th> <td>    0.0017</td> <td> 3.56e-05</td> <td>   48.456</td> <td> 0.000</td> <td>    0.002</td> <td>    0.002</td>\n",
       "</tr>\n",
       "</table>"
      ],
      "text/plain": [
       "<class 'statsmodels.iolib.summary.Summary'>\n",
       "\"\"\"\n",
       "                 Generalized Linear Model Regression Results                  \n",
       "==============================================================================\n",
       "Dep. Variable:            goal_scored   No. Observations:                 4080\n",
       "Model:                            GLM   Df Residuals:                     4078\n",
       "Model Family:                 Poisson   Df Model:                            1\n",
       "Link Function:                    log   Scale:                          1.0000\n",
       "Method:                          IRLS   Log-Likelihood:                -5502.6\n",
       "Date:                Tue, 01 Jun 2021   Deviance:                       4211.7\n",
       "Time:                        07:37:01   Pearson chi2:                 3.81e+03\n",
       "No. Iterations:                     5                                         \n",
       "Covariance Type:            nonrobust                                         \n",
       "==============================================================================\n",
       "                 coef    std err          z      P>|z|      [0.025      0.975]\n",
       "------------------------------------------------------------------------------\n",
       "const          0.1071      0.016      6.708      0.000       0.076       0.138\n",
       "elo_diff       0.0017   3.56e-05     48.456      0.000       0.002       0.002\n",
       "==============================================================================\n",
       "\"\"\""
      ]
     },
     "execution_count": 22,
     "metadata": {},
     "output_type": "execute_result"
    }
   ],
   "source": [
    "X = sm.add_constant(goal_elo_df['elo_diff'])\n",
    "y = goal_elo_df['goal_scored']\n",
    "\n",
    "res = sm.GLM(y, X, family=sm.families.Poisson()).fit()\n",
    "res.summary()"
   ]
  },
  {
   "cell_type": "code",
   "execution_count": 23,
   "metadata": {},
   "outputs": [
    {
     "data": {
      "text/plain": [
       "const       0.107132\n",
       "elo_diff    0.001727\n",
       "dtype: float64"
      ]
     },
     "execution_count": 23,
     "metadata": {},
     "output_type": "execute_result"
    }
   ],
   "source": [
    "res.params"
   ]
  },
  {
   "cell_type": "code",
   "execution_count": 32,
   "metadata": {},
   "outputs": [
    {
     "data": {
      "image/png": "[encoded data removed]",
      "text/plain": [
       "<Figure size 432x288 with 1 Axes>"
      ]
     },
     "metadata": {},
     "output_type": "display_data"
    }
   ],
   "source": [
    "x = np.arange(-1200, 1200)\n",
    "fig, ax = plt.subplots(facecolor='white')\n",
    "ax.plot(x, np.exp(x*res.params['elo_diff'] + res.params['const']), color = 'r')\n",
    "ax.scatter(goal_elo_df['elo_diff'], goal_elo_df['goal_scored'])\n",
    "ax.set_xlabel('Elo rating difference')\n",
    "ax.set_ylabel('Expected goals')\n",
    "plt.show()"
   ]
  },
  {
   "cell_type": "code",
   "execution_count": 86,
   "metadata": {},
   "outputs": [
    {
     "name": "stdout",
     "output_type": "stream",
     "text": [
      "1.3229213547885403 0.9365260335572295\n",
      "0.454\n",
      "0.292\n",
      "0.254\n"
     ]
    }
   ],
   "source": [
    "import scipy.stats as ss\n",
    "\n",
    "mu1 = np.exp(100*res.params['elo_diff'] + res.params['const'])\n",
    "mu2 = np.exp(-100*res.params['elo_diff'] + res.params['const'])\n",
    "\n",
    "print(mu1, mu2)\n",
    "\n",
    "goals1 = ss.poisson.rvs(mu1, size=1000)\n",
    "goals2 = ss.poisson.rvs(mu2, size=1000)\n",
    "results = goals1 - goals2\n",
    "\n",
    "print(len(np.where(results > 0)[0]) / len(results))\n",
    "print(len(np.where(results == 0)[0]) / len(results))\n",
    "print(len(np.where(results < 0)[0]) / len(results))\n"
   ]
  },
  {
   "cell_type": "code",
   "execution_count": null,
   "metadata": {},
   "outputs": [],
   "source": []
  }
 ],
 "metadata": {
  "kernelspec": {
   "display_name": "Python 3",
   "language": "python",
   "name": "python3"
  },
  "language_info": {
   "codemirror_mode": {
    "name": "ipython",
    "version": 3
   },
   "file_extension": ".py",
   "mimetype": "text/x-python",
   "name": "python",
   "nbconvert_exporter": "python",
   "pygments_lexer": "ipython3",
   "version": "3.7.8"
  }
 },
 "nbformat": 4,
 "nbformat_minor": 4
}
